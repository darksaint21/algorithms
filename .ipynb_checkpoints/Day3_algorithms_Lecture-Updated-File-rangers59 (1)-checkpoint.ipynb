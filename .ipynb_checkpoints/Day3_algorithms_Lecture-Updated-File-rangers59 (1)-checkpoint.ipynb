{
 "cells": [
  {
   "cell_type": "markdown",
   "metadata": {},
   "source": [
    "# Algorithms, Binary Search & Linked Lists"
   ]
  },
  {
   "cell_type": "markdown",
   "metadata": {},
   "source": [
    "## Tasks Today:\n",
    " \n",
    "1) <b>In-Place Algorithms</b> <br>\n",
    " &nbsp;&nbsp;&nbsp;&nbsp; a) Syntax <br>\n",
    " &nbsp;&nbsp;&nbsp;&nbsp; a) Out of Place Algorithm <br>\n",
    " &nbsp;&nbsp;&nbsp;&nbsp; b) In-Class Exercise #1 <br>\n",
    "2) <b>Two Pointers</b> <br>\n",
    "3) <b>Linked Lists</b> <br>\n",
    "4) <b>Merge Sort</b> <br>\n",
    " &nbsp;&nbsp;&nbsp;&nbsp; a) Video on Algorithms <br>\n",
    " &nbsp;&nbsp;&nbsp;&nbsp; b) How it Works <br>\n",
    "5) <b>Exercises</b> <br>\n",
    " &nbsp;&nbsp;&nbsp;&nbsp; a) Exercise #1 - Reverse a List in Place Using an In-Place Algorithm <br>\n",
    " &nbsp;&nbsp;&nbsp;&nbsp; b) Exercise #2 - Find Distinct Words <br>\n",
    " &nbsp;&nbsp;&nbsp;&nbsp; c) Exercise #3 - Write a program to implement a Linear Search Algorithm. <br>"
   ]
  },
  {
   "cell_type": "markdown",
   "metadata": {},
   "source": [
    "## In-Place Algorithms"
   ]
  },
  {
   "cell_type": "markdown",
   "metadata": {},
   "source": [
    "#### Syntax"
   ]
  },
  {
   "cell_type": "code",
   "execution_count": 1,
   "metadata": {},
   "outputs": [
    {
     "name": "stdout",
     "output_type": "stream",
     "text": [
      "befor swap:[20, 4, 10]\n",
      "after swap: [20, 10, 4]\n"
     ]
    }
   ],
   "source": [
    "#in place alg\n",
    "#var[i], var[i+1]= var[i=1], var[i]\n",
    "#sometimes know as a swap algorithm\n",
    "def swap(a_list, x, y, z):\n",
    "    a_list[x], a_list[y], a_list[z]= a_list[z], a_list[y], a_list[x]\n",
    "    return a_list\n",
    "\n",
    "my_list=[20,4,10]\n",
    "print(f\"befor swap:{my_list}\")\n",
    "\n",
    "#swap\n",
    "swap(my_list, 2,0,1) #flip order 0,1,2\n",
    "print(f'after swap: {my_list}')"
   ]
  },
  {
   "cell_type": "markdown",
   "metadata": {},
   "source": [
    "#### Out of Place Algorithm"
   ]
  },
  {
   "cell_type": "code",
   "execution_count": 5,
   "metadata": {},
   "outputs": [
    {
     "name": "stdout",
     "output_type": "stream",
     "text": [
      "[4, 10, 20]\n",
      "before ['a', 'b', 'c', 'c']\n",
      "after ['c', 'c', 'b', 'a']\n"
     ]
    }
   ],
   "source": [
    "#reversing completely no swapping things but also copys to another place in memory \n",
    "my_list_copy =my_list[::-1]\n",
    "print(my_list_copy)\n",
    "\n",
    "\n",
    "array= ['a', 'b', 'c', 'c']\n",
    "new_array =['a']* len(array)\n",
    "length =len(array)-1\n",
    "\n",
    "print('before', array)\n",
    "\n",
    "for i in range(length):\n",
    "    new_array[i]= array[length -i]\n",
    "    \n",
    "array=new_array\n",
    "print('after', array)\n"
   ]
  },
  {
   "cell_type": "markdown",
   "metadata": {},
   "source": [
    "#### In-Class Exercise #1 <br>\n",
    "<p>Write a function that takes in four arguments (list, index1, index2, index3), and swaps those three positions in the list passed in.</p>"
   ]
  },
  {
   "cell_type": "code",
   "execution_count": 14,
   "metadata": {},
   "outputs": [
    {
     "name": "stdout",
     "output_type": "stream",
     "text": [
      "[6, 2, 4, 8, 3, 4, 10]\n"
     ]
    }
   ],
   "source": [
    "list_1 = [10, 4, 3, 8, 4, 2, 6]\n",
    "\n",
    "def switch(lists,x,y,z):\n",
    "    lists[x],lists[y],lists[z]=lists[z],lists[y],lists[x]\n",
    "    return lists\n",
    "\n",
    "\n",
    "def switch(lists,a,b,c,d,e,f,g):\n",
    "    lists[a],lists[b],lists[c],lists[d],lists[e],lists[f],lists[g]=lists[g],lists[f],lists[e],lists[d],lists[c],lists[b],lists[a]\n",
    "    return lists\n",
    "print(switch(list_1,0,1,2,3,4,5,6))\n",
    "\n"
   ]
  },
  {
   "cell_type": "markdown",
   "metadata": {},
   "source": [
    "## Two Pointers"
   ]
  },
  {
   "cell_type": "markdown",
   "metadata": {},
   "source": [
    "#### Syntax"
   ]
  },
  {
   "cell_type": "code",
   "execution_count": 1,
   "metadata": {},
   "outputs": [
    {
     "data": {
      "text/plain": [
       "[22, 11, 4, 8, 9, 12, 3, 2, 1]"
      ]
     },
     "execution_count": 1,
     "metadata": {},
     "output_type": "execute_result"
    }
   ],
   "source": [
    "#ends up having 2 items that are iriteratint two items not at same time\n",
    "#ALIST[left], alist[right]= a;loist[right], list[left]\n",
    "def twoPointers(alist):\n",
    "    left=0\n",
    "    right=len(alist)-1\n",
    "    #set up loop that works thourgh our list and swaps one pair at a time\n",
    "    while left <= right:\n",
    "        alist[left], alist[right]= alist[right], alist[left]\n",
    "        left+=1\n",
    "        right-=1\n",
    "    return alist\n",
    "my_list2 =[1,2,3,12,9,8,4,11,22]\n",
    "twoPointers(my_list2)"
   ]
  },
  {
   "cell_type": "markdown",
   "metadata": {},
   "source": [
    "#### Video of Algorithms <br>\n",
    "<p>Watch the video about algorithms.</p>\n",
    "\n",
    "https://www.youtube.com/watch?v=Q9HjeFD62Uk\n",
    "\n",
    "https://www.youtube.com/watch?v=kPRA0W1kECg\n",
    "\n",
    "https://www.youtube.com/watch?v=ZZuD6iUe3Pc"
   ]
  },
  {
   "cell_type": "markdown",
   "metadata": {},
   "source": [
    "# Sorting Algorithms"
   ]
  },
  {
   "cell_type": "markdown",
   "metadata": {},
   "source": [
    "#### Bubble Sort\n",
    "\n",
    "Worst Case: O(n^2) Time - O(1) Space"
   ]
  },
  {
   "cell_type": "code",
   "execution_count": 6,
   "metadata": {},
   "outputs": [
    {
     "data": {
      "text/plain": [
       "[1, 22, 34, 44, 55, 66, 88, 100]"
      ]
     },
     "execution_count": 6,
     "metadata": {},
     "output_type": "execute_result"
    }
   ],
   "source": [
    "#best case for bubble: o(n)- linear\n",
    "def swap(i,j, array):\n",
    "    array[i], array[j]= array[j], array[i]\n",
    "    \n",
    "def bubbleSort(array):\n",
    "    isSorted=False\n",
    "    while not isSorted:\n",
    "        isSorted= True\n",
    "        for num in range (len(array)-1):\n",
    "            if array[num] > array[num+1]:\n",
    "                swap(num, num+1,array)\n",
    "                isSorted =False\n",
    "    return array\n",
    "bubbleSort([22,55,88,44,1,100,34,66])"
   ]
  },
  {
   "cell_type": "markdown",
   "metadata": {},
   "source": [
    "##### Insertion Sort\n",
    "\n",
    "Worst Case: O(n^2) time - O(1)space"
   ]
  },
  {
   "cell_type": "code",
   "execution_count": 2,
   "metadata": {},
   "outputs": [
    {
     "data": {
      "text/plain": [
       "[1, 22, 34, 44, 55, 66, 88, 100]"
      ]
     },
     "execution_count": 2,
     "metadata": {},
     "output_type": "execute_result"
    }
   ],
   "source": [
    "def swap(i, j, array):\n",
    "    array[i], array[j] = array[j], array[i]\n",
    "def insertionSort(array):\n",
    "    for i in range(1, len(array)):\n",
    "        j=i\n",
    "        while j > 0 and array[j] < array[j-1]:\n",
    "            swap(j, j - 1, array)\n",
    "            j -= 1\n",
    "    return array\n",
    "insertionSort([22,55,88,44,1,100,34,66])\n",
    "\n",
    "        "
   ]
  },
  {
   "cell_type": "markdown",
   "metadata": {},
   "source": [
    "## Merge Sort"
   ]
  },
  {
   "cell_type": "markdown",
   "metadata": {},
   "source": [
    "#### How it Works"
   ]
  },
  {
   "cell_type": "code",
   "execution_count": 3,
   "metadata": {},
   "outputs": [
    {
     "name": "stdout",
     "output_type": "stream",
     "text": [
      "splitting... [6, 6, 11, 19, 1]\n",
      "splitting... [6, 6]\n",
      "splitting... [6]\n",
      "splitting... [6]\n",
      "merging... [6, 6]\n",
      "splitting... [11, 19, 1]\n",
      "splitting... [11]\n",
      "splitting... [19, 1]\n",
      "splitting... [19]\n",
      "splitting... [1]\n",
      "merging... [1, 19]\n",
      "merging... [1, 11, 19]\n",
      "merging... [1, 6, 6, 11, 19]\n"
     ]
    },
    {
     "data": {
      "text/plain": [
       "[1, 6, 6, 11, 19]"
      ]
     },
     "execution_count": 3,
     "metadata": {},
     "output_type": "execute_result"
    }
   ],
   "source": [
    "#STEP ON SPLIT EVERYTHING INTO ITS OWN GROUP\n",
    "#STEP 2 FORM LEFT TO RIGHT, MERGE TWO GROUPS TOGETHER\n",
    "#STEP 3 WHILE MERGING, PLACE EACH ITEM IN THE CORRECT POSITION WITH IN THE MERGED GROUP\n",
    "#STEP 4 CONTINE STEPS 3-4 UNTIL ONLY ONE GROUP IS LEFT\n",
    "\n",
    "from random import randint\n",
    "#used to generate a random list of 5 number from 0-20\n",
    "nums = [randint(0,20) for i in range(5)]\n",
    "\n",
    "#wrtie our merge sort below\n",
    "def mergeSort(alist):\n",
    "    print('splitting...', alist)\n",
    "    \n",
    "    #step 1: devide the array into equal parts(as much as possible)\n",
    "    if len(alist) > 1:\n",
    "        mid = len(alist) // 2\n",
    "        lefthalf = alist[:mid]\n",
    "        righthalf = alist[mid:]\n",
    "        \n",
    "        #recursivley call merge sor to perform splits if needed\n",
    "        #then merge one thesplits are done\n",
    "        mergeSort(lefthalf)\n",
    "        mergeSort(righthalf)\n",
    "        \n",
    "        #index pointers\n",
    "        i = 0 # pointer for left\n",
    "        j = 0 #pointer for right half\n",
    "        k = 0 #ointer for our main array\n",
    "        \n",
    "        #step 2 compare the left and right half\n",
    "        while i < len(lefthalf) and j < len(righthalf):\n",
    "            if lefthalf[i] < righthalf[j]:\n",
    "                alist[k] = lefthalf[i]\n",
    "                i = i + 1\n",
    "            else:\n",
    "                alist[k] = righthalf[j]\n",
    "                j = j + 1\n",
    "            k = k + 1\n",
    "            \n",
    "            #step 3while merging place items in correct positions\n",
    "            while i < len(lefthalf):\n",
    "                alist[k] = lefthalf[i]\n",
    "                i = i + 1\n",
    "                k = k + 1\n",
    "            while j < len(righthalf):\n",
    "                alist[k] = righthalf[j]\n",
    "                j = j + 1\n",
    "                k = k + 1\n",
    "            print('merging...', alist)\n",
    "            return alist\n",
    "        \n",
    "mergeSort(nums)\n",
    "                \n",
    "    "
   ]
  },
  {
   "cell_type": "markdown",
   "metadata": {},
   "source": [
    "# Binary Search\n",
    "\n",
    "The Binary Search algorithm works by finding the number in the middle of a given array and comparing it to the target. Given that the array is sorted\n",
    "\n",
    "* The worst case run time for this algorithm is `O(log(n))`"
   ]
  },
  {
   "cell_type": "code",
   "execution_count": 14,
   "metadata": {},
   "outputs": [
    {
     "data": {
      "text/plain": [
       "'the index is...1'"
      ]
     },
     "execution_count": 14,
     "metadata": {},
     "output_type": "execute_result"
    }
   ],
   "source": [
    "#less= left\n",
    "#greater= right\n",
    "#list of number must be in order\n",
    "\n",
    "def binarySearchHelperFunction(array, target, left, right):\n",
    "    while left <= right:\n",
    "        middle =(left+right) // 2\n",
    "        potentialMatch =array[middle]\n",
    "        if target ==potentialMatch:\n",
    "            return f'the index is...{middle}'\n",
    "        elif target<potentialMatch:\n",
    "            right=middle -1\n",
    "        else:\n",
    "            left =middle +1\n",
    "    return -1\n",
    "\n",
    "def binarySearch(array, target):\n",
    "    return binarySearchHelperFunction(array, target, 0, len(array)-1)\n",
    "\n",
    "binarySearch([22,44,55,66,88,100], 44)\n"
   ]
  },
  {
   "cell_type": "markdown",
   "metadata": {},
   "source": [
    "# Exercises"
   ]
  },
  {
   "cell_type": "markdown",
   "metadata": {},
   "source": [
    "### Exercise #1 <br>\n",
    "<p>Reverse the list below in-place using an in-place algorithm.<br>For extra credit: Reverse the strings at the same time.</p>"
   ]
  },
  {
   "cell_type": "code",
   "execution_count": 35,
   "metadata": {},
   "outputs": [
    {
     "name": "stdout",
     "output_type": "stream",
     "text": [
      "List is:  ['this', 'is', 'a', 'sentence', '.']\n",
      "List is:  ['is', 'a', 'sentence']\n",
      "List is:  ['a']\n",
      "Now list is:  ['sentence', 'a', 'is']\n",
      "Now list is:  ['.', 'sentence', 'a', 'is', 'this']\n"
     ]
    },
    {
     "data": {
      "text/plain": [
       "['.', 'sentence', 'a', 'is', 'this']"
      ]
     },
     "execution_count": 35,
     "metadata": {},
     "output_type": "execute_result"
    }
   ],
   "source": [
    "words = ['this' , 'is', 'a', 'sentence', '.']\n",
    "\n",
    "def reverse_list(words):\n",
    "    n = len(words)\n",
    "    print('List is: ', words)\n",
    "    if n <= 2:\n",
    "        words[0], words[-1] = words[-1], words[0]\n",
    "        return words\n",
    "    else:\n",
    "        first = [words[0]]\n",
    "        last = [words[-1]]\n",
    "        temp = reverse_list(words[1:-1])\n",
    "        words = last + temp + first\n",
    "        print('Now list is: ', words)\n",
    "        return words\n",
    "reverse_list(words)\n",
    "\n",
    "\n",
    "  \n",
    "    \n",
    "\n",
    "\n",
    "\n",
    "\n"
   ]
  },
  {
   "cell_type": "markdown",
   "metadata": {},
   "source": [
    "### Exercise #2 <br>\n",
    "<p>Create a function that counts how many distinct words are in the string below, then outputs a dictionary with the words as the key and the value as the amount of times that word appears in the string.<br>Should output:<br>{'a': 5,<br>\n",
    " 'abstract': 1,<br>\n",
    " 'an': 3,<br>\n",
    " 'array': 2, ... etc...</p>"
   ]
  },
  {
   "cell_type": "code",
   "execution_count": 52,
   "metadata": {},
   "outputs": [
    {
     "data": {
      "text/plain": [
       "{'In': 1,\n",
       " 'computing,': 1,\n",
       " 'a': 4,\n",
       " 'hash': 4,\n",
       " 'table': 2,\n",
       " 'map': 2,\n",
       " 'is': 1,\n",
       " 'data': 2,\n",
       " 'structure': 2,\n",
       " 'which': 2,\n",
       " 'implements': 1,\n",
       " 'an': 3,\n",
       " 'associative': 1,\n",
       " 'array': 2,\n",
       " 'abstract': 1,\n",
       " 'type,': 1,\n",
       " 'that': 1,\n",
       " 'can': 2,\n",
       " 'keys': 1,\n",
       " 'to': 2,\n",
       " 'values.': 1,\n",
       " 'A': 1,\n",
       " 'uses': 1,\n",
       " 'function': 1,\n",
       " 'compute': 1,\n",
       " 'index': 1,\n",
       " 'into': 1,\n",
       " 'of': 1,\n",
       " 'buckets': 1,\n",
       " 'or': 1,\n",
       " 'slots': 1,\n",
       " 'from': 1,\n",
       " 'the': 1,\n",
       " 'desired': 1,\n",
       " 'value': 1,\n",
       " 'be': 1,\n",
       " 'found': 1}"
      ]
     },
     "execution_count": 52,
     "metadata": {},
     "output_type": "execute_result"
    }
   ],
   "source": [
    "a_text = 'In computing, a hash table hash map is a data structure which implements an associative array abstract data type, a structure that can map keys to values. A hash table uses a hash function to compute an index into an array of buckets or slots from which the desired value can be found'\n",
    "def word_count(a_text):\n",
    "    counts = dict()\n",
    "    words = a_text.split()\n",
    "\n",
    "    for word in words:\n",
    "        if word in counts:\n",
    "            counts[word] += 1\n",
    "        else:\n",
    "            counts[word] = 1\n",
    "\n",
    "    return counts\n",
    "\n",
    "word_count('In computing, a hash table hash map is a data structure which implements an associative array abstract data type, a structure that can map keys to values. A hash table uses a hash function to compute an index into an array of buckets or slots from which the desired value can be found')\n",
    "\n"
   ]
  },
  {
   "cell_type": "markdown",
   "metadata": {},
   "source": [
    "## Exercise #3\n",
    "\n",
    "Write a program to implement a Linear Search Algorithm. Also in a comment, write the Time Complexity of the following algorithm.\n",
    "\n",
    "#### Hint: Linear Searching will require searching a list for a given number. "
   ]
  },
  {
   "cell_type": "code",
   "execution_count": 49,
   "metadata": {},
   "outputs": [
    {
     "name": "stdout",
     "output_type": "stream",
     "text": [
      "3\n"
     ]
    }
   ],
   "source": [
    "nums_list =[10,23,45,70,11,15]\n",
    "target=70\n",
    "\n",
    "def search(nums_list, target):\n",
    "    for i in range(len(nums_list)):\n",
    "        if nums_list[i] == target:\n",
    "            return i\n",
    "    return -1\n",
    "\n",
    "if __name__ == '__main__':\n",
    "    nums_list = [10,23,45,70,11,15]\n",
    "    target = 70\n",
    "    print(search(nums_list, target))\n",
    "#if number is not present return -1\n",
    "\n",
    "#time complexity o(log(n))"
   ]
  }
 ],
 "metadata": {
  "kernelspec": {
   "display_name": "Python 3 (ipykernel)",
   "language": "python",
   "name": "python3"
  },
  "language_info": {
   "codemirror_mode": {
    "name": "ipython",
    "version": 3
   },
   "file_extension": ".py",
   "mimetype": "text/x-python",
   "name": "python",
   "nbconvert_exporter": "python",
   "pygments_lexer": "ipython3",
   "version": "3.9.12"
  }
 },
 "nbformat": 4,
 "nbformat_minor": 2
}
